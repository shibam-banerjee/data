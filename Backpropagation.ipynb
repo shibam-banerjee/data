{
 "cells": [
  {
   "cell_type": "markdown",
   "metadata": {
    "colab_type": "text",
    "id": "N5QCLaUnrnBV"
   },
   "source": [
    "# Back Propagation"
   ]
  },
  {
   "cell_type": "markdown",
   "metadata": {
    "colab_type": "text",
    "id": "sH5jPVX-rnBd"
   },
   "source": [
    "## 1. loading of data"
   ]
  },
  {
   "cell_type": "code",
   "execution_count": 1,
   "metadata": {
    "colab": {},
    "colab_type": "code",
    "id": "y4WT0EJRrnBg",
    "outputId": "90804161-647c-4283-a8c2-27188dd451ce"
   },
   "outputs": [
    {
     "name": "stdout",
     "output_type": "stream",
     "text": [
      "(506, 6)\n",
      "(506, 5) (506,)\n"
     ]
    }
   ],
   "source": [
    "import warnings\n",
    "warnings.filterwarnings('ignore')\n",
    "import pickle\n",
    "import numpy as np\n",
    "import math\n",
    "import operator\n",
    "with open('data.pkl', 'rb') as f:\n",
    "    data = pickle.load(f)\n",
    "print(data.shape)\n",
    "X = data[:, :5]                                                   \n",
    "y = data[:, -1]\n",
    "print(X.shape, y.shape)"
   ]
  },
  {
   "cell_type": "markdown",
   "metadata": {
    "colab_type": "text",
    "id": "GIkq6U0SrnBu"
   },
   "source": [
    "# 2. Computational graph"
   ]
  },
  {
   "cell_type": "markdown",
   "metadata": {
    "colab_type": "text",
    "id": "3XnJH-McrnBx"
   },
   "source": [
    "<img src='https://i.imgur.com/seSGbNS.png'>"
   ]
  },
  {
   "cell_type": "markdown",
   "metadata": {
    "colab_type": "text",
    "id": "YRQKYgJrrnB0"
   },
   "source": [
    "<pre>\n",
    "1. if you observe the graph, we are having input features [f1, f2, f3, f4, f5] and 9 weights [w1, w2, w3, w4, w5, w6,    w7, w8, w9]\n",
    "2. the final output of this graph is a value L which is computed as (Y-Y')^2\n",
    "</pre>"
   ]
  },
  {
   "cell_type": "markdown",
   "metadata": {
    "colab_type": "text",
    "id": "inW-os8IrnB3"
   },
   "source": [
    "### Task 1: Implementing backpropagation and Gradient checking\n",
    "\n",
    "\n",
    "<pre>1. <b>Check this video for better understanding of the computational graphs and back propagation:</b> <a href='https://www.youtube.com/watch?v=i94OvYb6noo#t=1m33s'>https://www.youtube.com/watch?v=i94OvYb6noo</a>\n",
    "</pre>\n",
    "\n",
    "<pre>\n",
    "2. <b>write two functions</b>\n",
    "\n",
    "#you can modify the definition of this function according to your needs\n",
    "<font color='green'>\n",
    "def forward_propagation(X, y, W):\n",
    "        <font color='grey'>\n",
    "        # X: input data point, note that in this assignment you are having 5-d data points\n",
    "        # y: output varible\n",
    "        # W: weight array, its of length 9, W[0] corresponds to w1 in graph, W[1] corresponds to w2 in graph, ..., W[8] corresponds to w9 in graph.\n",
    "        # write code to compute the value of L=(y-y')^2\n",
    "        </font>\n",
    "        return (L, any other variables which you might need to use for back propagation)\n",
    "        <font color='grey'>\n",
    "        # Hint: you can use dict type to store the required intermediate variables \n",
    "        </font>\n",
    "</font>\n",
    "</pre>\n",
    "\n",
    "<pre>\n",
    "# you can modify the definition of this function according to your needs\n",
    "<font color='blue'>\n",
    "def backward_propagation(L, Variables):\n",
    "        <font color='grey'>\n",
    "        # L: the loss we calculated for the current point\n",
    "        # Variables: the outputs of the forward_propagation() function\n",
    "        # write code to compute the gradients of each weight [w1,w2,w3,...,w9]\n",
    "        </font>\n",
    "        return dW\n",
    "        <font color='grey'>\n",
    "        # here dW can be a list, or dict or any other data type wich will have gradients of all the weights\n",
    "        # Hint: you can use dict type to store the required variables \n",
    "        </font>\n",
    "</font>\n",
    "</pre>\n",
    "3. <b> <a href='https://towardsdatascience.com/how-to-debug-a-neural-network-with-gradient-checking-41deec0357a9'>Gradient checking</a></b>:<a href='https://towardsdatascience.com/how-to-debug-a-neural-network-with-gradient-checking-41deec0357a9'>blog link</a> \n",
    "\n",
    "<pre>we know that the derivative of any function is </pre>$$\\lim_{\\epsilon\\to0}\\frac{f(x+\\epsilon)-f(x-\\epsilon)}{2\\epsilon}$$\n",
    "<pre>\n",
    "The definition above can be used as a numerical approximation of the derivative. Taking an epsilon small enough, the calculated approximation will have an error in the range of epsilon squared. \n",
    "\n",
    "In other words, if epsilon is 0.001, the approximation will be off by 0.00001.\n",
    "\n",
    "Therefore, we can use this to approximate the gradient, and in turn make sure that backpropagation is implemented properly. This forms the basis of gradient checking!\n",
    "\n",
    "</pre>\n",
    "\n",
    "<font >\n",
    "lets understand the concept with a simple example:\n",
    "$f(w1,w2,x1,x2)=w_{1}^{2} . x_{1} + w_{2} . x_{2}$ \n",
    "\n",
    "from the above function lets assume $w_{1}=1$, $w_{2}=2$, $x_{1}=3$, $x_{2}=4$ the gradient of $f$ w.r.t $w_{1}$ is\n",
    "\n",
    "\\begin{array} {lcl}\n",
    "\\frac{df}{dw_{1}} = dw_{1} &=&2.w_{1}.x_{1} \\\\& = &2.1.3\\\\& = &6\n",
    "\\end{array}\n",
    "\n",
    "\n",
    "let calculate the aproximate gradient of $w_{1}$ as mentinoned in the above formula and considering $\\epsilon=0.0001$\n",
    "\n",
    "\\begin{array} {lcl}\n",
    "dw_1^{approx} & = & \\frac{f(w1+\\epsilon,w2,x1,x2)-f(w1-\\epsilon,w2,x1,x2)}{2\\epsilon} \\\\ & = & \\frac{((1+0.0001)^{2} . 3 + 2 . 4) - ((1-0.0001)^{2} . 3 + 2 . 4)}{2\\epsilon} \\\\ & = & \\frac{(1.00020001 . 3 + 2 . 4) - (0.99980001. 3 + 2 . 4)}{2*0.0001} \\\\ & = & \\frac{(11.00060003) - (10.99940003)}{0.0002}\\\\ & = & 5.99999999999\n",
    "\\end{array}\n",
    "\n",
    "Then, we apply the following formula for gradient check: <i>gradient_check</i> = \n",
    "$\\frac{\\left\\Vert\\left (dW-dW^{approx}\\rm\\right) \\right\\Vert_2}{\\left\\Vert\\left (dW\\rm\\right) \\right\\Vert_2+\\left\\Vert\\left (dW^{approx}\\rm\\right) \\right\\Vert_2}$\n",
    "\n",
    "The equation above is basically the Euclidean distance normalized by the sum of the norm of the vectors. We use normalization in case that one of the vectors is very small.\n",
    "As a value for epsilon, we usually opt for 1e-7. Therefore, if gradient check return a value less than 1e-7, then it means that backpropagation was implemented correctly. Otherwise, there is potentially a mistake in your implementation. If the value exceeds 1e-3, then you are sure that the code is not correct.\n",
    "\n",
    "in our example: <i>gradient_check</i> $ = \\frac{(6 - 5.999999999994898)}{(6 + 5.999999999994898)} = 4.2514140356330737e^{-13}$\n",
    "\n",
    "you can mathamatically derive the same thing like this\n",
    "\n",
    "\\begin{array} {lcl}\n",
    "dw_1^{approx} & = & \\frac{f(w1+\\epsilon,w2,x1,x2)-f(w1-\\epsilon,w2,x1,x2)}{2\\epsilon} \\\\ & = & \\frac{((w_{1}+\\epsilon)^{2} . x_{1} + w_{2} . x_{2}) - ((w_{1}-\\epsilon)^{2} . x_{1} + w_{2} . x_{2})}{2\\epsilon} \\\\ & = & \\frac{4. \\epsilon.w_{1}. x_{1}}{2\\epsilon} \\\\ & = &  2.w_{1}.x_{1}\n",
    "\\end{array}\n",
    "\n",
    "to do this task you need to write a function \n",
    "<pre>\n",
    "<font color='darkblue'>\n",
    "W = initilize_randomly\n",
    "def gradient_checking(data_point, W):\n",
    "    <font color='grey'>\n",
    "    # compute the L value using forward_propagation()\n",
    "    # compute the gradients of W using backword_propagation()\n",
    "    </font>\n",
    "    approx_gradients = []\n",
    "    for each wi weight value in W:\n",
    "        <font color='grey'>\n",
    "        # add a small value to weight wi, and then find the values of L with the updated weights\n",
    "        # subtract a small value to weight wi, and then find the values of L with the updated weights\n",
    "        # compute the approximation gradients of weight wi\n",
    "        </font>\n",
    "        approx_gradients.append(approximation gradients of weight wi)\n",
    "    <font color='grey'>\n",
    "    # compare the gradient of weights W from backword_propagation() with the aproximation gradients of weights with      gradient_check formula\n",
    "    </font>\n",
    "    return gradient_check\n",
    "</font>\n",
    "NOTE: you can do sanity check by checking all the return values of gradient_checking(), they have to be zero. if not you have bug in your code\n",
    "</pre>"
   ]
  },
  {
   "cell_type": "markdown",
   "metadata": {
    "colab_type": "text",
    "id": "mf1fj5ZernB5"
   },
   "source": [
    "### Task 2: Optimizers\n",
    "\n",
    "1. As a part of this task, you will be implementing 3 type of optimizers(methods to update weight)\n",
    "2. check this video and blog: https://www.youtube.com/watch?v=gYpoJMlgyXA,  http://cs231n.github.io/neural-networks-3/\n",
    "3. use the same computational graph that was mentioned above to do this task\n",
    "4. initilze the 9 weights from normal distribution with mean=0 and std=0.01\n",
    "\n",
    "5. \n",
    "\n",
    "<pre>\n",
    "    for each epoch(1-100):\n",
    "        for each data point in your data:\n",
    "            using the functions forward_propagation() and backword_propagation() compute the gradients of weights\n",
    "            update the weigts with help of gradients  ex: w1 = w1-learning_rate*dw1\n",
    "</pre>\n",
    "\n",
    "6.\n",
    "\n",
    "<pre>\n",
    "<b>task 2.1</b>: you will be implementing the above algorithm with <b>Vanilla update</b> of weights\n",
    "<b>task 2.2</b>: you will be implementing the above algorithm with <b>Momentum update</b> of weights\n",
    "<b>task 2.3</b>: you will be implementing the above algorithm with <b>Adam update</b> of weights\n",
    "</pre>\n",
    "\n"
   ]
  },
  {
   "cell_type": "code",
   "execution_count": 2,
   "metadata": {},
   "outputs": [],
   "source": [
    "W = np.random.normal(0, 0.01, 9)"
   ]
  },
  {
   "cell_type": "code",
   "execution_count": 3,
   "metadata": {},
   "outputs": [],
   "source": [
    "def sigmoid(x):\n",
    "    '''\n",
    "    Function to calculate sigmoid\n",
    "    \n",
    "    Fx= 1 / 1 + exp^-x\n",
    "\n",
    "    '''\n",
    "    return 1 / (1 + np.exp(-x))"
   ]
  },
  {
   "cell_type": "code",
   "execution_count": 4,
   "metadata": {},
   "outputs": [],
   "source": [
    "def tanh(x):\n",
    "    '''\n",
    "    Function to calculate tanh\n",
    "    \n",
    "    exp(x) - exp(-x) / exp(x) + exp(-x)\n",
    "    \n",
    "    '''\n",
    "    return (np.exp(x) - np.exp(-x))/(np.exp(x) + np.exp(-x))"
   ]
  },
  {
   "cell_type": "code",
   "execution_count": 5,
   "metadata": {},
   "outputs": [],
   "source": [
    "def forward_propagation(x,y,w):\n",
    "    '''\n",
    "    Function to calculate Forward Propagation of a MLP\n",
    "    \n",
    "    '''\n",
    "    \n",
    "    L11 = w[0]*x[0]\n",
    "    L12 = w[1]*x[1]\n",
    "    L21 = L11+L12\n",
    "    L22 = L11+L12\n",
    "    L23 = w[2]*x[2]\n",
    "    L24 = w[3]*x[3]\n",
    "    L25 = w[4]*x[4]\n",
    "    L31 = L21*L22\n",
    "    L32 = np.sin(L23)\n",
    "    L33 = L24+L25\n",
    "    L41 = w[5] + L31\n",
    "    L42 = L32*L33\n",
    "    L51 = np.exp(L41)\n",
    "    L52 = w[7] + L42\n",
    "    L61 = w[6] + L51\n",
    "    L62 = sigmoid(L52)\n",
    "    L71 = tanh(L61)\n",
    "    L72 = w[8]*L62\n",
    "    L81 = L71 + L72\n",
    "    y_dash = L81\n",
    "    Loss = (y - y_dash)**2\n",
    "\n",
    "    Loss_dict = {'L11':L11,'L12':L12,'L21':L21,'L22':L22,'L23':L23,'L24':L24,'L25':L25,'L31':L31,'L32':L32,'L33':L33,\n",
    "                'L41':L41,'L42':L42,'L51':L51,'L52':L52,'L61':L61,'L62':L62,'L71':L71,'L72':L72,'L72':L72,'L81':L81,\n",
    "                'y_dash':y_dash,'Loss':Loss} #Storing in a dictionary {Output Name: Value}\n",
    "    \n",
    "    return Loss, y_dash, Loss_dict    "
   ]
  },
  {
   "cell_type": "code",
   "execution_count": 6,
   "metadata": {},
   "outputs": [],
   "source": [
    "def backward_propagation(loss, y_dash, x, y, w, loss_dt):\n",
    "    '''\n",
    "    Function to calculate Backward Propagation of a MLP\n",
    "    \n",
    "    '''\n",
    "    #Calculated Gradients of the given Graph\n",
    "    dl_by_dydash = 2*(y_dash - y)\n",
    "    dydash_by_d071 = 1\n",
    "    d071_by_d061 = (1 - (tanh(loss_dt['L61']))**2)\n",
    "    d061_by_d051 = 1\n",
    "    d051_by_d041 = np.exp(loss_dt['L41'])\n",
    "    d041_by_d031 = 1\n",
    "    d031_by_d021 = loss_dt['L22']\n",
    "    d021_by_d011 = 1\n",
    "    d022_by_d011 = 1\n",
    "    d011_by_dw1 = x[0]\n",
    "    d022_by_d012 = 1\n",
    "    d021_by_d012 = 1\n",
    "    d012_by_dw2 = x[1]\n",
    "    d031_by_d022 = loss_dt['L21']\n",
    "    dydash_by_d072 = 1\n",
    "    d072_by_d062 = w[8]\n",
    "    d062_by_d052 = sigmoid(loss_dt['L52']) * (1 - sigmoid(loss_dt['L52']))\n",
    "    d052_by_d042 = 1\n",
    "    d042_by_d032 = loss_dt['L33']\n",
    "    d032_by_d023 = np.cos(loss_dt['L23'])\n",
    "    d023_by_dw3 = x[2]\n",
    "    d042_by_d033 = loss_dt['L32']\n",
    "    d033_by_d024 = 1\n",
    "    d024_by_dw4 = x[3]\n",
    "    d033_by_d025 = 1\n",
    "    d025_by_dw5 = x[4]\n",
    "    d041_by_dw6 = 1\n",
    "    d061_by_dw7 = 1\n",
    "    d052_by_dw8 = 1\n",
    "    d072_by_dw9 = loss_dt['L62']\n",
    "    \n",
    "    dw1 = dl_by_dydash*dydash_by_d071*d071_by_d061*d061_by_d051*d051_by_d041*d041_by_d031*((d031_by_d021*d021_by_d011*d011_by_dw1)+(d031_by_d022*d022_by_d011*d011_by_dw1))   \n",
    "    dw2 = dl_by_dydash*dydash_by_d071*d071_by_d061*d061_by_d051*d051_by_d041*d041_by_d031*((d031_by_d022*d022_by_d012*d012_by_dw2)+(d031_by_d021*d021_by_d012*d012_by_dw2))\n",
    "    dw3 = dl_by_dydash*dydash_by_d072*d072_by_d062*d062_by_d052*d052_by_d042*d042_by_d032*d032_by_d023*d023_by_dw3\n",
    "    dw4 = dl_by_dydash*dydash_by_d072*d072_by_d062*d062_by_d052*d052_by_d042*d042_by_d033*d033_by_d024*d024_by_dw4\n",
    "    dw5 = dl_by_dydash*dydash_by_d072*d072_by_d062*d062_by_d052*d052_by_d042*d042_by_d033*d033_by_d025*d025_by_dw5\n",
    "    dw6 = dl_by_dydash*dydash_by_d071*d071_by_d061*d061_by_d051*d051_by_d041*d041_by_dw6\n",
    "    dw7 = dl_by_dydash*dydash_by_d071*d071_by_d061*d061_by_dw7\n",
    "    dw8 = dl_by_dydash*dydash_by_d072*d072_by_d062*d062_by_d052*d052_by_dw8\n",
    "    dw9 = dl_by_dydash*dydash_by_d072*d072_by_dw9\n",
    "    \n",
    "    dw = [dw1,dw2,dw3,dw4,dw5,dw6,dw7,dw8,dw9]\n",
    "    return dw"
   ]
  },
  {
   "cell_type": "markdown",
   "metadata": {},
   "source": [
    "Gradient Checking:"
   ]
  },
  {
   "cell_type": "code",
   "execution_count": 13,
   "metadata": {},
   "outputs": [],
   "source": [
    "def gradient_checking(x,y,w):\n",
    "    '''\n",
    "    Function to check the gradients generated using Function Forward Propagation and Function Backward Propagation\n",
    "    \n",
    "    '''\n",
    "    epsilon = 1e-07\n",
    "    Loss1, y_dash1, Loss_dict1 = forward_propagation(x,y,w)\n",
    "    grad = backward_propagation(Loss1, y_dash1, x, y, w, Loss_dict1)\n",
    "    \n",
    "    approx_gradients = []\n",
    "    gradient_check_list = []\n",
    "    for wi in range(len(w)):\n",
    "        w_new = np.copy(w)\n",
    "        w_new[wi]= w_new[wi] + epsilon #Adding a small value epsilon to wi\n",
    "        w_new_n = np.copy(w)\n",
    "        w_new_n[wi] = w_new_n[wi] - epsilon #Subtracting a small value epsilon to wi\n",
    "        loss_p, yy, Ll = forward_propagation(x,y,w_new)\n",
    "        loss_n, yy, Ll = forward_propagation(x,y,w_new_n)\n",
    "        grad_approx = (loss_p - loss_n)/(2*epsilon) #Approximated grad value\n",
    "        approx_gradients.append(grad_approx)\n",
    "        \n",
    "        diff = list(map(operator.sub, approx_gradients, grad))\n",
    "        numerator = np.linalg.norm(diff) #L2-norm\n",
    "        denominator = np.linalg.norm(grad) + np.linalg.norm(approx_gradients)\n",
    "    \n",
    "        gradient_check = numerator/denominator\n",
    "        gradient_check_list.append(gradient_check)\n",
    "    \n",
    "        if gradient_check < 1e-07:\n",
    "            print('The Gradient Check is Correct and Successful')\n",
    "        else:\n",
    "            print('There is a Mistake')\n",
    "        \n",
    "    \n",
    "    return gradient_check_list"
   ]
  },
  {
   "cell_type": "code",
   "execution_count": 15,
   "metadata": {},
   "outputs": [
    {
     "name": "stdout",
     "output_type": "stream",
     "text": [
      "The Gradient Check is Correct and Successful\n",
      "The Gradient Check is Correct and Successful\n",
      "The Gradient Check is Correct and Successful\n",
      "The Gradient Check is Correct and Successful\n",
      "The Gradient Check is Correct and Successful\n",
      "The Gradient Check is Correct and Successful\n",
      "The Gradient Check is Correct and Successful\n",
      "The Gradient Check is Correct and Successful\n",
      "The Gradient Check is Correct and Successful\n",
      "\n",
      "Gradient Check:\n",
      " [4.4730685262425185e-10, 1.1672961411351353e-09, 1.327029028349624e-09, 1.458393737895507e-09, 1.5756787970160823e-09, 1.3653765007918224e-09, 1.1893118941174437e-09, 1.2090543376931965e-09, 1.089186219076824e-09]\n"
     ]
    }
   ],
   "source": [
    "W = np.random.normal(0, 0.01, 9)\n",
    "datapoint = 1\n",
    "\n",
    "gc = gradient_checking(X[datapoint],y[datapoint],W)\n",
    "print('\\nGradient Check:\\n',gc)"
   ]
  },
  {
   "cell_type": "markdown",
   "metadata": {},
   "source": [
    "# Task 2"
   ]
  },
  {
   "cell_type": "markdown",
   "metadata": {},
   "source": [
    "Task 2.1: Vanilla Update"
   ]
  },
  {
   "cell_type": "code",
   "execution_count": 84,
   "metadata": {},
   "outputs": [],
   "source": [
    "from sklearn.metrics import mean_squared_error\n",
    "w = np.random.normal(0, 0.01, 9)"
   ]
  },
  {
   "cell_type": "code",
   "execution_count": 93,
   "metadata": {},
   "outputs": [
    {
     "name": "stdout",
     "output_type": "stream",
     "text": [
      "The updated value of loss is 0.6921482822190134 in Epoch 1\n",
      "The updated value of loss is 0.6905156026955854 in Epoch 2\n",
      "The updated value of loss is 0.6888901531569488 in Epoch 3\n",
      "The updated value of loss is 0.6872718820676638 in Epoch 4\n",
      "The updated value of loss is 0.6856607383727135 in Epoch 5\n",
      "The updated value of loss is 0.6840566714921618 in Epoch 6\n",
      "The updated value of loss is 0.682459631315883 in Epoch 7\n",
      "The updated value of loss is 0.6808695681983529 in Epoch 8\n",
      "The updated value of loss is 0.6792864329535092 in Epoch 9\n",
      "The updated value of loss is 0.677710176849673 in Epoch 10\n",
      "The updated value of loss is 0.676140751604539 in Epoch 11\n",
      "The updated value of loss is 0.6745781093802221 in Epoch 12\n",
      "The updated value of loss is 0.6730222027783707 in Epoch 13\n",
      "The updated value of loss is 0.6714729848353415 in Epoch 14\n",
      "The updated value of loss is 0.6699304090174298 in Epoch 15\n",
      "The updated value of loss is 0.6683944292161634 in Epoch 16\n",
      "The updated value of loss is 0.6668649997436564 in Epoch 17\n",
      "The updated value of loss is 0.6653420753280154 in Epoch 18\n",
      "The updated value of loss is 0.6638256111088067 in Epoch 19\n",
      "The updated value of loss is 0.66231556263258 in Epoch 20\n",
      "The updated value of loss is 0.6608118858484461 in Epoch 21\n",
      "The updated value of loss is 0.65931453710371 in Epoch 22\n",
      "The updated value of loss is 0.6578234731395576 in Epoch 23\n",
      "The updated value of loss is 0.6563386510867966 in Epoch 24\n",
      "The updated value of loss is 0.654860028461648 in Epoch 25\n",
      "The updated value of loss is 0.6533875631615933 in Epoch 26\n",
      "The updated value of loss is 0.651921213461268 in Epoch 27\n",
      "The updated value of loss is 0.6504609380084095 in Epoch 28\n",
      "The updated value of loss is 0.6490066958198524 in Epoch 29\n",
      "The updated value of loss is 0.6475584462775736 in Epoch 30\n",
      "The updated value of loss is 0.6461161491247882 in Epoch 31\n",
      "The updated value of loss is 0.6446797644620872 in Epoch 32\n",
      "The updated value of loss is 0.6432492527436287 in Epoch 33\n",
      "The updated value of loss is 0.6418245747733737 in Epoch 34\n",
      "The updated value of loss is 0.6404056917013641 in Epoch 35\n",
      "The updated value of loss is 0.6389925650200525 in Epoch 36\n",
      "The updated value of loss is 0.6375851565606702 in Epoch 37\n",
      "The updated value of loss is 0.6361834284896442 in Epoch 38\n",
      "The updated value of loss is 0.6347873433050539 in Epoch 39\n",
      "The updated value of loss is 0.6333968638331352 in Epoch 40\n",
      "The updated value of loss is 0.6320119532248208 in Epoch 41\n",
      "The updated value of loss is 0.6306325749523287 in Epoch 42\n",
      "The updated value of loss is 0.6292586928057858 in Epoch 43\n",
      "The updated value of loss is 0.6278902708898977 in Epoch 44\n",
      "The updated value of loss is 0.6265272736206552 in Epoch 45\n",
      "The updated value of loss is 0.6251696657220809 in Epoch 46\n",
      "The updated value of loss is 0.6238174122230149 in Epoch 47\n",
      "The updated value of loss is 0.6224704784539401 in Epoch 48\n",
      "The updated value of loss is 0.6211288300438438 in Epoch 49\n",
      "The updated value of loss is 0.6197924329171187 in Epoch 50\n",
      "The updated value of loss is 0.6184612532904984 in Epoch 51\n",
      "The updated value of loss is 0.6171352576700323 in Epoch 52\n",
      "The updated value of loss is 0.6158144128480948 in Epoch 53\n",
      "The updated value of loss is 0.6144986859004292 in Epoch 54\n",
      "The updated value of loss is 0.6131880441832294 in Epoch 55\n",
      "The updated value of loss is 0.6118824553302534 in Epoch 56\n",
      "The updated value of loss is 0.6105818872499735 in Epoch 57\n",
      "The updated value of loss is 0.6092863081227581 in Epoch 58\n",
      "The updated value of loss is 0.6079956863980871 in Epoch 59\n",
      "The updated value of loss is 0.6067099907918027 in Epoch 60\n",
      "The updated value of loss is 0.6054291902833873 in Epoch 61\n",
      "The updated value of loss is 0.6041532541132802 in Epoch 62\n",
      "The updated value of loss is 0.6028821517802201 in Epoch 63\n",
      "The updated value of loss is 0.6016158530386206 in Epoch 64\n",
      "The updated value of loss is 0.6003543278959791 in Epoch 65\n",
      "The updated value of loss is 0.5990975466103114 in Epoch 66\n",
      "The updated value of loss is 0.5978454796876199 in Epoch 67\n",
      "The updated value of loss is 0.5965980978793886 in Epoch 68\n",
      "The updated value of loss is 0.5953553721801109 in Epoch 69\n",
      "The updated value of loss is 0.5941172738248425 in Epoch 70\n",
      "The updated value of loss is 0.5928837742867835 in Epoch 71\n",
      "The updated value of loss is 0.5916548452748909 in Epoch 72\n",
      "The updated value of loss is 0.5904304587315166 in Epoch 73\n",
      "The updated value of loss is 0.589210586830073 in Epoch 74\n",
      "The updated value of loss is 0.5879952019727254 in Epoch 75\n",
      "The updated value of loss is 0.5867842767881122 in Epoch 76\n",
      "The updated value of loss is 0.5855777841290906 in Epoch 77\n",
      "The updated value of loss is 0.5843756970705084 in Epoch 78\n",
      "The updated value of loss is 0.5831779889069993 in Epoch 79\n",
      "The updated value of loss is 0.58198463315081 in Epoch 80\n",
      "The updated value of loss is 0.5807956035296414 in Epoch 81\n",
      "The updated value of loss is 0.5796108739845273 in Epoch 82\n",
      "The updated value of loss is 0.5784304186677255 in Epoch 83\n",
      "The updated value of loss is 0.5772542119406424 in Epoch 84\n",
      "The updated value of loss is 0.5760822283717734 in Epoch 85\n",
      "The updated value of loss is 0.5749144427346742 in Epoch 86\n",
      "The updated value of loss is 0.573750830005949 in Epoch 87\n",
      "The updated value of loss is 0.5725913653632643 in Epoch 88\n",
      "The updated value of loss is 0.5714360241833865 in Epoch 89\n",
      "The updated value of loss is 0.5702847820402372 in Epoch 90\n",
      "The updated value of loss is 0.5691376147029765 in Epoch 91\n",
      "The updated value of loss is 0.5679944981341041 in Epoch 92\n",
      "The updated value of loss is 0.56685540848758 in Epoch 93\n",
      "The updated value of loss is 0.5657203221069721 in Epoch 94\n",
      "The updated value of loss is 0.5645892155236202 in Epoch 95\n",
      "The updated value of loss is 0.5634620654548214 in Epoch 96\n",
      "The updated value of loss is 0.5623388488020372 in Epoch 97\n",
      "The updated value of loss is 0.5612195426491184 in Epoch 98\n",
      "The updated value of loss is 0.5601041242605531 in Epoch 99\n"
     ]
    }
   ],
   "source": [
    "learning_rate = 0.001\n",
    "epoch = range(1,100)\n",
    "loss_list = []\n",
    "w1 = np.copy(w)\n",
    "for i in epoch:\n",
    "    for j in range(len(X)):\n",
    "        loss1, y_dash_val, loss_dict1 = forward_propagation(X[j],y[j],w1)\n",
    "        dw = backward_propagation(loss1, y_dash_val, X[j], y[j], w1, loss_dict1)\n",
    "    w1 = w1-[x * learning_rate for x in dw]\n",
    "    loss_list.append(loss1)\n",
    "    print('The updated value of loss is {} in Epoch {}'.format(loss1,i))    "
   ]
  },
  {
   "cell_type": "code",
   "execution_count": 92,
   "metadata": {},
   "outputs": [
    {
     "data": {
      "image/png": "[encoded data removed]",
      "text/plain": [
       "<Figure size 288x216 with 1 Axes>"
      ]
     },
     "metadata": {
      "needs_background": "light"
     },
     "output_type": "display_data"
    }
   ],
   "source": [
    "import matplotlib.pyplot as plt\n",
    "fig = plt.figure(figsize=(4,3))\n",
    "plt.plot(epoch,loss_list)\n",
    "plt.grid()\n",
    "plt.xlabel('Epoch')\n",
    "plt.ylabel('Loss')\n",
    "plt.title('Epoch vs Loss Plot')\n",
    "plt.show()"
   ]
  },
  {
   "cell_type": "markdown",
   "metadata": {},
   "source": [
    "Task 2.2: Momentum Update"
   ]
  },
  {
   "cell_type": "code",
   "execution_count": 95,
   "metadata": {},
   "outputs": [
    {
     "name": "stdout",
     "output_type": "stream",
     "text": [
      "The updated value of w is 0.6921482822190134 in Epoch 1\n",
      "The updated value of w is 0.6905156026955854 in Epoch 2\n",
      "The updated value of w is 0.6874270853084302 in Epoch 3\n",
      "The updated value of w is 0.6830528118907335 in Epoch 4\n",
      "The updated value of w is 0.6775542955723017 in Epoch 5\n",
      "The updated value of w is 0.6710832027715771 in Epoch 6\n",
      "The updated value of w is 0.6637805296185321 in Epoch 7\n",
      "The updated value of w is 0.655776159407103 in Epoch 8\n",
      "The updated value of w is 0.647188732620878 in Epoch 9\n",
      "The updated value of w is 0.6381257672138619 in Epoch 10\n",
      "The updated value of w is 0.628683973604291 in Epoch 11\n",
      "The updated value of w is 0.6189497158310816 in Epoch 12\n",
      "The updated value of w is 0.6089995772159075 in Epoch 13\n",
      "The updated value of w is 0.5989009954445734 in Epoch 14\n",
      "The updated value of w is 0.588712938077126 in Epoch 15\n",
      "The updated value of w is 0.5784865950231909 in Epoch 16\n",
      "The updated value of w is 0.56826606942951 in Epoch 17\n",
      "The updated value of w is 0.5580890527083423 in Epoch 18\n",
      "The updated value of w is 0.5479874731026496 in Epoch 19\n",
      "The updated value of w is 0.537988110270205 in Epoch 20\n",
      "The updated value of w is 0.5281131709198094 in Epoch 21\n",
      "The updated value of w is 0.5183808226022212 in Epoch 22\n",
      "The updated value of w is 0.5088056844027546 in Epoch 23\n",
      "The updated value of w is 0.4993992745588615 in Epoch 24\n",
      "The updated value of w is 0.49017041598906 in Epoch 25\n",
      "The updated value of w is 0.4811256014205209 in Epoch 26\n",
      "The updated value of w is 0.4722693202879226 in Epoch 27\n",
      "The updated value of w is 0.46360434988718335 in Epoch 28\n",
      "The updated value of w is 0.4551320134403985 in Epoch 29\n",
      "The updated value of w is 0.44685240779364127 in Epoch 30\n",
      "The updated value of w is 0.4387646034532104 in Epoch 31\n",
      "The updated value of w is 0.4308668195900034 in Epoch 32\n",
      "The updated value of w is 0.42315657652351824 in Epoch 33\n",
      "The updated value of w is 0.4156308280506811 in Epoch 34\n",
      "The updated value of w is 0.4082860758213623 in Epoch 35\n",
      "The updated value of w is 0.4011184677907285 in Epoch 36\n",
      "The updated value of w is 0.3941238826049587 in Epoch 37\n",
      "The updated value of w is 0.3872980016061644 in Epoch 38\n",
      "The updated value of w is 0.3806363699780114 in Epoch 39\n",
      "The updated value of w is 0.37413444839781845 in Epoch 40\n",
      "The updated value of w is 0.36778765641532507 in Epoch 41\n",
      "The updated value of w is 0.361591408643594 in Epoch 42\n",
      "The updated value of w is 0.355541144723984 in Epoch 43\n",
      "The updated value of w is 0.3496323539147003 in Epoch 44\n",
      "The updated value of w is 0.3438605950507357 in Epoch 45\n",
      "The updated value of w is 0.3382215125315925 in Epoch 46\n",
      "The updated value of w is 0.33271084891133423 in Epoch 47\n",
      "The updated value of w is 0.32732445459259474 in Epoch 48\n",
      "The updated value of w is 0.32205829506142897 in Epoch 49\n",
      "The updated value of w is 0.31690845604262013 in Epoch 50\n",
      "The updated value of w is 0.3118711469045138 in Epoch 51\n",
      "The updated value of w is 0.30694270259802237 in Epoch 52\n",
      "The updated value of w is 0.3021195843754198 in Epoch 53\n",
      "The updated value of w is 0.29739837950041836 in Epoch 54\n",
      "The updated value of w is 0.2927758001311718 in Epoch 55\n",
      "The updated value of w is 0.28824868153185995 in Epoch 56\n",
      "The updated value of w is 0.28381397974585354 in Epoch 57\n",
      "The updated value of w is 0.27946876884381433 in Epoch 58\n",
      "The updated value of w is 0.2752102378430259 in Epoch 59\n",
      "The updated value of w is 0.2710356873794908 in Epoch 60\n",
      "The updated value of w is 0.2669425262015785 in Epoch 61\n",
      "The updated value of w is 0.2629282675429953 in Epoch 62\n",
      "The updated value of w is 0.2589905254233715 in Epoch 63\n",
      "The updated value of w is 0.2551270109166178 in Epoch 64\n",
      "The updated value of w is 0.2513355284201922 in Epoch 65\n",
      "The updated value of w is 0.2476139719524541 in Epoch 66\n",
      "The updated value of w is 0.24396032150013722 in Epoch 67\n",
      "The updated value of w is 0.2403726394336327 in Epoch 68\n",
      "The updated value of w is 0.2368490670040445 in Epoch 69\n",
      "The updated value of w is 0.2333878209328421 in Epoch 70\n",
      "The updated value of w is 0.22998719010226848 in Epoch 71\n",
      "The updated value of w is 0.2266455323524258 in Epoch 72\n",
      "The updated value of w is 0.22336127138907014 in Epoch 73\n",
      "The updated value of w is 0.22013289380459236 in Epoch 74\n",
      "The updated value of w is 0.21695894621333514 in Epoch 75\n",
      "The updated value of w is 0.21383803250134586 in Epoch 76\n",
      "The updated value of w is 0.2107688111897605 in Epoch 77\n",
      "The updated value of w is 0.20774999291031454 in Epoch 78\n",
      "The updated value of w is 0.20478033799089304 in Epoch 79\n",
      "The updated value of w is 0.2018586541485903 in Epoch 80\n",
      "The updated value of w is 0.1989837942873864 in Epoch 81\n",
      "The updated value of w is 0.19615465439729415 in Epoch 82\n",
      "The updated value of w is 0.19337017155163402 in Epoch 83\n",
      "The updated value of w is 0.19062932199895957 in Epoch 84\n",
      "The updated value of w is 0.18793111934608484 in Epoch 85\n",
      "The updated value of w is 0.1852746128286181 in Epoch 86\n",
      "The updated value of w is 0.18265888566541164 in Epoch 87\n",
      "The updated value of w is 0.18008305349335238 in Epoch 88\n",
      "The updated value of w is 0.17754626287897587 in Epoch 89\n",
      "The updated value of w is 0.17504768990345096 in Epoch 90\n",
      "The updated value of w is 0.17258653881755606 in Epoch 91\n",
      "The updated value of w is 0.17016204076337152 in Epoch 92\n",
      "The updated value of w is 0.16777345255950965 in Epoch 93\n",
      "The updated value of w is 0.16542005554680259 in Epoch 94\n",
      "The updated value of w is 0.1631011544914978 in Epoch 95\n",
      "The updated value of w is 0.160816076543107 in Epoch 96\n",
      "The updated value of w is 0.15856417024417963 in Epoch 97\n",
      "The updated value of w is 0.1563448045893834 in Epoch 98\n",
      "The updated value of w is 0.15415736813139114 in Epoch 99\n"
     ]
    }
   ],
   "source": [
    "learning_rate = 0.001\n",
    "v = np.zeros(len(w))\n",
    "epoch = range(1,100)\n",
    "mu = 0.9\n",
    "loss_list = []\n",
    "w2 = np.copy(w)\n",
    "for i in epoch:\n",
    "    for j in range(len(X)):\n",
    "        loss1, y_dash_val, loss_dict1 = forward_propagation(X[j],y[j],w2)\n",
    "        dw = backward_propagation(loss1, y_dash_val, X[j], y[j], w2, loss_dict1)\n",
    "    v = mu * v - [x * learning_rate for x in dw]\n",
    "    w2 = w2 + v\n",
    "    loss_list.append(loss1)\n",
    "    print('The updated value of w is {} in Epoch {}'.format(loss1,i))"
   ]
  },
  {
   "cell_type": "code",
   "execution_count": 96,
   "metadata": {},
   "outputs": [
    {
     "data": {
      "image/png": "[encoded data removed]",
      "text/plain": [
       "<Figure size 288x216 with 1 Axes>"
      ]
     },
     "metadata": {
      "needs_background": "light"
     },
     "output_type": "display_data"
    }
   ],
   "source": [
    "import matplotlib.pyplot as plt\n",
    "fig = plt.figure(figsize=(4,3))\n",
    "plt.plot(epoch,loss_list)\n",
    "plt.grid()\n",
    "plt.xlabel('Epoch')\n",
    "plt.ylabel('Loss')\n",
    "plt.title('Epoch vs Loss Plot')\n",
    "plt.show()"
   ]
  },
  {
   "cell_type": "markdown",
   "metadata": {},
   "source": [
    "Task 2.3: Adam Update"
   ]
  },
  {
   "cell_type": "code",
   "execution_count": 102,
   "metadata": {},
   "outputs": [
    {
     "name": "stdout",
     "output_type": "stream",
     "text": [
      "The updated value of w is 0.6921482822190134 in Epoch 1\n",
      "The updated value of w is 0.6851882572423449 in Epoch 2\n",
      "The updated value of w is 0.6759305613721335 in Epoch 3\n",
      "The updated value of w is 0.6652847786882699 in Epoch 4\n",
      "The updated value of w is 0.6537543245491555 in Epoch 5\n",
      "The updated value of w is 0.641668538167386 in Epoch 6\n",
      "The updated value of w is 0.6292590046062251 in Epoch 7\n",
      "The updated value of w is 0.6166945983821501 in Epoch 8\n",
      "The updated value of w is 0.6041007663099651 in Epoch 9\n",
      "The updated value of w is 0.5915714201929958 in Epoch 10\n",
      "The updated value of w is 0.5791768591465387 in Epoch 11\n",
      "The updated value of w is 0.5669693400043992 in Epoch 12\n",
      "The updated value of w is 0.5549871487400516 in Epoch 13\n",
      "The updated value of w is 0.5432576613420681 in Epoch 14\n",
      "The updated value of w is 0.531799693065024 in Epoch 15\n",
      "The updated value of w is 0.5206253291894726 in Epoch 16\n",
      "The updated value of w is 0.5097413677905887 in Epoch 17\n",
      "The updated value of w is 0.49915046603034824 in Epoch 18\n",
      "The updated value of w is 0.48885205615705246 in Epoch 19\n",
      "The updated value of w is 0.4788430803114891 in Epoch 20\n",
      "The updated value of w is 0.46911858133705986 in Epoch 21\n",
      "The updated value of w is 0.45967217826336915 in Epoch 22\n",
      "The updated value of w is 0.4504964488725314 in Epoch 23\n",
      "The updated value of w is 0.4415832370651968 in Epoch 24\n",
      "The updated value of w is 0.432923899163483 in Epoch 25\n",
      "The updated value of w is 0.4245095005156222 in Epoch 26\n",
      "The updated value of w is 0.4163309715930014 in Epoch 27\n",
      "The updated value of w is 0.40837923104724566 in Epoch 28\n",
      "The updated value of w is 0.4006452818176282 in Epoch 29\n",
      "The updated value of w is 0.39312028527006004 in Epoch 30\n",
      "The updated value of w is 0.38579561745072416 in Epoch 31\n",
      "The updated value of w is 0.37866291080643405 in Epoch 32\n",
      "The updated value of w is 0.37171408412661106 in Epoch 33\n",
      "The updated value of w is 0.3649413629723186 in Epoch 34\n",
      "The updated value of w is 0.3583372924556444 in Epoch 35\n",
      "The updated value of w is 0.3518947439016404 in Epoch 36\n",
      "The updated value of w is 0.34560691665204046 in Epoch 37\n",
      "The updated value of w is 0.3394673360446289 in Epoch 38\n",
      "The updated value of w is 0.33346984841594507 in Epoch 39\n",
      "The updated value of w is 0.32760861382112594 in Epoch 40\n",
      "The updated value of w is 0.3218780970374349 in Epoch 41\n",
      "The updated value of w is 0.3162730573128301 in Epoch 42\n",
      "The updated value of w is 0.31078853723394506 in Epoch 43\n",
      "The updated value of w is 0.3054198510160241 in Epoch 44\n",
      "The updated value of w is 0.3001625724580027 in Epoch 45\n",
      "The updated value of w is 0.2950125227570117 in Epoch 46\n",
      "The updated value of w is 0.28996575833626287 in Epoch 47\n",
      "The updated value of w is 0.28501855880711396 in Epoch 48\n",
      "The updated value of w is 0.28016741515889143 in Epoch 49\n",
      "The updated value of w is 0.27540901824775127 in Epoch 50\n",
      "The updated value of w is 0.27074024763764215 in Epoch 51\n",
      "The updated value of w is 0.2661581608316008 in Epoch 52\n",
      "The updated value of w is 0.261659982919589 in Epoch 53\n",
      "The updated value of w is 0.2572430966593695 in Epoch 54\n",
      "The updated value of w is 0.25290503299912703 in Epoch 55\n",
      "The updated value of w is 0.24864346204433802 in Epoch 56\n",
      "The updated value of w is 0.24445618446648565 in Epoch 57\n",
      "The updated value of w is 0.24034112334739102 in Epoch 58\n",
      "The updated value of w is 0.2362963164499812 in Epoch 59\n",
      "The updated value of w is 0.23231990890408952 in Epoch 60\n",
      "The updated value of w is 0.2284101462942435 in Epoch 61\n",
      "The updated value of w is 0.2245653681352368 in Epoch 62\n",
      "The updated value of w is 0.22078400172050774 in Epoch 63\n",
      "The updated value of w is 0.21706455632788468 in Epoch 64\n",
      "The updated value of w is 0.21340561776705066 in Epoch 65\n",
      "The updated value of w is 0.20980584325305648 in Epoch 66\n",
      "The updated value of w is 0.20626395659035968 in Epoch 67\n",
      "The updated value of w is 0.2027787436521225 in Epoch 68\n",
      "The updated value of w is 0.19934904813985568 in Epoch 69\n",
      "The updated value of w is 0.19597376760891713 in Epoch 70\n",
      "The updated value of w is 0.19265184974583682 in Epoch 71\n",
      "The updated value of w is 0.18938228888395392 in Epoch 72\n",
      "The updated value of w is 0.18616412274436722 in Epoch 73\n",
      "The updated value of w is 0.18299642938974162 in Epoch 74\n",
      "The updated value of w is 0.17987832437904933 in Epoch 75\n",
      "The updated value of w is 0.17680895811187414 in Epoch 76\n",
      "The updated value of w is 0.17378751335141399 in Epoch 77\n",
      "The updated value of w is 0.17081320291586585 in Epoch 78\n",
      "The updated value of w is 0.16788526752835725 in Epoch 79\n",
      "The updated value of w is 0.1650029738160952 in Epoch 80\n",
      "The updated value of w is 0.1621656124498666 in Epoch 81\n",
      "The updated value of w is 0.15937249641548834 in Epoch 82\n",
      "The updated value of w is 0.15662295940923116 in Epoch 83\n",
      "The updated value of w is 0.1539163543496697 in Epoch 84\n",
      "The updated value of w is 0.15125205199880334 in Epoch 85\n",
      "The updated value of w is 0.14862943968567965 in Epoch 86\n",
      "The updated value of w is 0.1460479201261104 in Epoch 87\n",
      "The updated value of w is 0.14350691033241936 in Epoch 88\n",
      "The updated value of w is 0.14100584060748994 in Epoch 89\n",
      "The updated value of w is 0.13854415361769515 in Epoch 90\n",
      "The updated value of w is 0.13612130353958338 in Epoch 91\n",
      "The updated value of w is 0.13373675527548967 in Epoch 92\n",
      "The updated value of w is 0.1313899837334938 in Epoch 93\n",
      "The updated value of w is 0.12908047316741644 in Epoch 94\n",
      "The updated value of w is 0.12680771657277795 in Epoch 95\n",
      "The updated value of w is 0.12457121513487743 in Epoch 96\n",
      "The updated value of w is 0.12237047772536831 in Epoch 97\n",
      "The updated value of w is 0.12020502044391476 in Epoch 98\n",
      "The updated value of w is 0.11807436620170371 in Epoch 99\n"
     ]
    }
   ],
   "source": [
    "eps = 1e-8 #Taking the recommended values\n",
    "beta1 = 0.9\n",
    "beta2 = 0.999\n",
    "learning_rate = 0.001\n",
    "v = np.zeros(len(w))\n",
    "m = np.zeros(len(w))\n",
    "mt = np.zeros(len(w))\n",
    "vt = np.zeros(len(w))\n",
    "epoch = range(1,100)\n",
    "w3 = np.copy(w)\n",
    "loss_list = []\n",
    "for i in epoch:\n",
    "    for j in range(len(X)):\n",
    "        loss1, y_dash_val, loss_dict1 = forward_propagation(X[j],y[j],w3)\n",
    "        dw = backward_propagation(loss1, y_dash_val, X[j], y[j], w3, loss_dict1)\n",
    "    m = beta1*m + [x * (1-beta1) for x in dw]\n",
    "    v = beta2*v + [x * (1-beta2) for x in list(np.power(dw,2))]\n",
    "    w3 = w3 - [x * learning_rate for x in m] / (np.sqrt(v)) + eps\n",
    "    \n",
    "    loss_list.append(loss1)\n",
    "  \n",
    "    print('The updated value of w is {} in Epoch {}'.format(loss1,i))"
   ]
  },
  {
   "cell_type": "code",
   "execution_count": 103,
   "metadata": {},
   "outputs": [
    {
     "data": {
      "image/png": "[encoded data removed]",
      "text/plain": [
       "<Figure size 288x216 with 1 Axes>"
      ]
     },
     "metadata": {
      "needs_background": "light"
     },
     "output_type": "display_data"
    }
   ],
   "source": [
    "import matplotlib.pyplot as plt\n",
    "fig = plt.figure(figsize=(4,3))\n",
    "plt.plot(epoch,loss_list)\n",
    "plt.grid()\n",
    "plt.xlabel('Epoch')\n",
    "plt.ylabel('Loss')\n",
    "plt.title('Epoch vs Loss Plot')\n",
    "plt.show()"
   ]
  },
  {
   "cell_type": "markdown",
   "metadata": {},
   "source": [
    "Conclusions:\n",
    "1. The Vanilla Update did a decent job of reducing the Loss. It reduced the loss by about 0.133 in 100 epochs.\n",
    "2. The Momentum Update did an excellent job in reducing the Loss. It reduced the loss from 0.692 to 0.151, which is excellent.\n",
    "3. The Adam Update did the best out of the 3. It reduced the loss from 0.692 to 0.118, which is the least loss that we have got.\n",
    "4. So we can say that Adam Update is best to reduce the loss the most in less number of Epochs than Momentum and Vanilla Update"
   ]
  }
 ],
 "metadata": {
  "colab": {
   "name": "Backpropagation.ipynb",
   "provenance": []
  },
  "kernelspec": {
   "display_name": "Python 3",
   "language": "python",
   "name": "python3"
  },
  "language_info": {
   "codemirror_mode": {
    "name": "ipython",
    "version": 3
   },
   "file_extension": ".py",
   "mimetype": "text/x-python",
   "name": "python",
   "nbconvert_exporter": "python",
   "pygments_lexer": "ipython3",
   "version": "3.7.4"
  }
 },
 "nbformat": 4,
 "nbformat_minor": 1
}
